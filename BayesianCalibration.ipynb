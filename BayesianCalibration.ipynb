{
 "cells": [
  {
   "cell_type": "markdown",
   "id": "199b2dcc-2434-4a93-97ec-cd16e5bd1d0c",
   "metadata": {},
   "source": [
    "# Calibration of the Sr/Ca paleothermometer: A Bayesian approach"
   ]
  },
  {
   "cell_type": "markdown",
   "id": "9a2f36cf-f464-4de8-8aae-9ff5bfa16cdc",
   "metadata": {
    "id": "d7vsL4-sRBbp"
   },
   "source": [
    "## Authors\n",
    "\n",
    "[Deborah Khider](https://orcid.org/0000-0001-7501-8430)\n",
    "\n",
    "## Preamble\n",
    "\n",
    "\n",
    "\n",
    "### *Siderastrea sidera*\n",
    "\n"
   ]
  },
  {
   "cell_type": "code",
   "execution_count": null,
   "id": "050ba14f-ed7f-44a1-9482-02e9c6dc6eb4",
   "metadata": {
    "colab": {
     "base_uri": "https://localhost:8080/",
     "height": 230
    },
    "id": "6UVe6s2WRszT",
    "outputId": "b428879e-3ddb-4af7-8302-4da522f030d2"
   },
   "outputs": [],
   "source": [
    "with pm.Model() as basic_model:\n",
    "    \n",
    "    # Prior is a uniform distribution over the -1 to 0 interval for the slope and 0 to 50 for intercept\n",
    "    a = pm.Uniform('a',lower=-0.1, upper=0)\n",
    "    b = pm.Uniform('b',lower=5, upper=20)\n",
    "    sigma = pm.Normal('sigma', mu=8.9, sd=1)\n",
    "    \n",
    "    # Expected value of the outcome\n",
    "    mu = b + a*X_train\n",
    "    \n",
    "    # Create the model\n",
    "    Y_obs = pm.Normal('Y_obs', mu=mu, sd=sigma, observed=Y_train)\n",
    "\n",
    "    #Perform NUTS sampling\n",
    "    normal_trace = pm.sample(draws=5000, chains = 2, tune = 500)"
   ]
  },
  {
   "cell_type": "code",
   "execution_count": null,
   "id": "79366c41-0aca-4822-a88e-4675e690c365",
   "metadata": {
    "colab": {
     "base_uri": "https://localhost:8080/",
     "height": 510
    },
    "id": "iLwuS9Y5VLFu",
    "outputId": "ed95473d-c706-4188-905b-c544870c503a"
   },
   "outputs": [],
   "source": [
    "_ = pm.traceplot(normal_trace)"
   ]
  },
  {
   "cell_type": "code",
   "execution_count": null,
   "id": "f9beaaf7-adcb-41c8-9771-256278c7f4b0",
   "metadata": {
    "colab": {
     "base_uri": "https://localhost:8080/",
     "height": 213
    },
    "id": "e8K6Be7AVP4e",
    "outputId": "5075dcc9-cae5-4e85-8da2-64a06afabf6c"
   },
   "outputs": [],
   "source": [
    "pm.summary(normal_trace)"
   ]
  }
 ],
 "metadata": {
  "kernelspec": {
   "display_name": "Python 3 (ipykernel)",
   "language": "python",
   "name": "python3"
  },
  "language_info": {
   "codemirror_mode": {
    "name": "ipython",
    "version": 3
   },
   "file_extension": ".py",
   "mimetype": "text/x-python",
   "name": "python",
   "nbconvert_exporter": "python",
   "pygments_lexer": "ipython3",
   "version": "3.11.9"
  }
 },
 "nbformat": 4,
 "nbformat_minor": 5
}
