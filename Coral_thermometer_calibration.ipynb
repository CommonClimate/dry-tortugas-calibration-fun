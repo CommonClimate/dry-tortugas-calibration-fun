{
 "cells": [
  {
   "cell_type": "markdown",
   "metadata": {
    "id": "nYR9yLMcBWtw"
   },
   "source": [
    "# Calibration the Sr/Ca paleothermometer: an example from Dry Tortugas\n",
    "\n",
    "This notebook will assist you in the data exploration process. If you know Python, feel free to change as needed to answer the questions.\n",
    "\n",
    "For Python novice, time to get your feet a little wet! Don't worry, nothing difficult but you may be asked to copy and paste cells and change the indices as needed. \n",
    "\n",
    "First let's import necessary packages for our work. To run the cell below, with click on play or `shift+enter`."
   ]
  },
  {
   "cell_type": "code",
   "execution_count": null,
   "metadata": {
    "id": "xnPkxMo7nJMw"
   },
   "outputs": [],
   "source": [
    "import pandas as pd\n",
    "import numpy as np\n",
    "import seaborn as sns\n",
    "import matplotlib.pyplot as plt\n",
    "import pymc3 as pm\n",
    "from sklearn.linear_model import LinearRegression"
   ]
  },
  {
   "cell_type": "markdown",
   "metadata": {
    "id": "scB-zxiPAfb-"
   },
   "source": [
    "## Obtaining the data.\n",
    "\n",
    "For this calibration exercise, we will be using the Sr/Ca data from [DeLong et al. (2011)](https://www.sciencedirect.com/science/article/pii/S0031018211002501?casa_token=u1x_ZYnm_mIAAAAA:rU7n-8jHh2g5UPgGHs5h1iptBXVa6rfvKFxpOwgMjHgB6g4jUZ9oRppzJz7O5UQHDlc1U3xhYSg). \n",
    "\n",
    "The data is available through the database maintained by NOAA NCEI. The cell below will download the data into the workspace. Note that Colab doesn't keep data in folder. If you close this window, you may have to redownload it. "
   ]
  },
  {
   "cell_type": "code",
   "execution_count": null,
   "metadata": {
    "colab": {
     "base_uri": "https://localhost:8080/"
    },
    "id": "H-kYqsU5nJyx",
    "outputId": "d3535e3e-da0b-4bc6-c4c6-6eab09fa827d"
   },
   "outputs": [],
   "source": [
    "!wget https://www.ncei.noaa.gov/pub/data/paleo/coral/atlantic/tortugas2011.xls"
   ]
  },
  {
   "cell_type": "markdown",
   "metadata": {
    "id": "-DIlJiqwB97o"
   },
   "source": [
    "Now that we have the data, let's import it into our workspace using [pandas](https://pandas.pydata.org). Pandas dataframes are one of the most useful data models in data science. Many other libraries for plotting and analysis natively use them. \n",
    "\n",
    "Pandas allow you to create a dataframe from a table in excel using the function `read_excel`. In the cell below, I am creating a dataframe from the file we have just downloaded, using the second sheet (this is the confusing part; Python indexing starts at 0 so the first sheet is actually 0), and considering that the headers for the columns are in lines 1,2,3 (so 0,1,2 in Python)."
   ]
  },
  {
   "cell_type": "code",
   "execution_count": null,
   "metadata": {
    "colab": {
     "base_uri": "https://localhost:8080/",
     "height": 296
    },
    "id": "TyDdLWg3qfJg",
    "outputId": "58fa9296-d5ee-4fed-d35b-00172ca5de81"
   },
   "outputs": [],
   "source": [
    "df = pd.read_excel('tortugas2011.xls', sheet_name=1,header=[0,2])\n",
    "df.head()"
   ]
  },
  {
   "cell_type": "markdown",
   "metadata": {
    "id": "_UeHrRDA1wzq"
   },
   "source": [
    "**Question 1:** Based on the ReadMe in the excel file and the manuscript, describe each column in the file. It doesn't have to be an extensive description. It's just to orient us. \n",
    "\n",
    "The next step is to explore the data and think about our calibration exercise.\n",
    "\n",
    "## Data Exploration\n",
    "\n",
    "The cell below is just a practical guide to the names of the columns and their respective indices. Execute it."
   ]
  },
  {
   "cell_type": "code",
   "execution_count": null,
   "metadata": {
    "colab": {
     "base_uri": "https://localhost:8080/"
    },
    "id": "wZnEpTBk5ZSi",
    "outputId": "f9d2766e-cbf2-41cc-fa7f-bb594a739e02"
   },
   "outputs": [],
   "source": [
    "headers = list(df.columns.values)\n",
    "for idx,item in enumerate(headers):\n",
    "  print(str(idx)+\": \"+str(item))"
   ]
  },
  {
   "cell_type": "markdown",
   "metadata": {
    "id": "PVURwiTRDL2_"
   },
   "source": [
    "The format is as followed:\n",
    "column index: variable name.\n",
    "\n",
    "There are multiple ways to select columns in a pandas dataframe. You can either do so by name (by copying/pasting the headers above) or using `iloc` and the column number. I'll be using the second option since the column names are long.\n",
    "\n",
    "Let's first plot the Sr/Ca record of the species of corals in the dataset. \n",
    "\n",
    "About the code:\n",
    "* The first line allows you to change the size of the figure to your convenience.\n",
    "* The second to fourth line plots the data. Here we have three Sr/Ca recods. The plot function takes (x,y,label). x is time (column 0), y is the Sr/Ca values (column 1,4,7), label is of your choosing and is used to create the legend.\n",
    "* The next two lines add labels to the axis\n",
    "* The last two lines show the legend and the plot"
   ]
  },
  {
   "cell_type": "code",
   "execution_count": null,
   "metadata": {
    "colab": {
     "base_uri": "https://localhost:8080/",
     "height": 279
    },
    "id": "HiK4jt0d9VE3",
    "outputId": "754a28ea-8a4a-49ed-9c59-b01fb751d6d2"
   },
   "outputs": [],
   "source": [
    "fig,ax=plt.subplots(figsize=(20,4))\n",
    "plt.plot(df.iloc[:,0], df.iloc[:,1], label = \"Siderastrea sidera\")\n",
    "plt.plot(df.iloc[:,0], df.iloc[:,4], label = \"Siderastrea sidera\")\n",
    "plt.plot(df.iloc[:,0], df.iloc[:,7], label = \"Montastraea faveolata\")\n",
    "plt.xlabel('Time')\n",
    "plt.ylabel('Sr/Ca (mmol/mol)')\n",
    "plt.legend()\n",
    "plt.show()"
   ]
  },
  {
   "cell_type": "markdown",
   "metadata": {
    "id": "OwnfV8iA_fMg"
   },
   "source": [
    "**Question:** What are the main takeaways from your plot? What does this mean for the calibration?\n",
    "\n",
    "Now, let's examine the temperature record. Plot the two temperature series"
   ]
  },
  {
   "cell_type": "code",
   "execution_count": null,
   "metadata": {
    "id": "8IQd6BaT_UNX"
   },
   "outputs": [],
   "source": [
    "## Your code here"
   ]
  },
  {
   "cell_type": "markdown",
   "metadata": {
    "id": "14aHkyL7EvZL"
   },
   "source": [
    "**Question:** How can you use the data for calibration?\n",
    "\n",
    "One choice could be to only use the Sand Key data. Another would be to take the mean of the two series. Let's take the mean and create a new column in our dataframe."
   ]
  },
  {
   "cell_type": "code",
   "execution_count": null,
   "metadata": {
    "colab": {
     "base_uri": "https://localhost:8080/",
     "height": 330
    },
    "id": "ga-17q8rErnd",
    "outputId": "bd6a428a-4848-41db-ee3d-963656a2a860"
   },
   "outputs": [],
   "source": [
    "av_t = pd.DataFrame(data={'A':df.iloc[:,10],'B':df.iloc[:,12]}).mean(axis=1)\n",
    "df[('Monthly mean SST','Average Temperature')]=av_t\n",
    "df.head()"
   ]
  },
  {
   "cell_type": "markdown",
   "metadata": {
    "id": "8NM_3zH7GhZV"
   },
   "source": [
    "And plot:"
   ]
  },
  {
   "cell_type": "code",
   "execution_count": null,
   "metadata": {
    "colab": {
     "base_uri": "https://localhost:8080/",
     "height": 279
    },
    "id": "7AxjJzkGGBtT",
    "outputId": "4b06e031-a48a-4c52-c784-640c78c90925"
   },
   "outputs": [],
   "source": [
    "fig,ax=plt.subplots(figsize=(20,4))\n",
    "plt.plot(df.iloc[:,0], df.iloc[:,14])\n",
    "plt.xlabel('Time')\n",
    "plt.ylabel('SST')\n",
    "plt.show()"
   ]
  },
  {
   "cell_type": "markdown",
   "metadata": {
    "id": "0FHZ0Dz8HXfN"
   },
   "source": [
    "## Ordinary least square regression\n",
    "\n",
    "### *Siderastrea sidera*\n",
    "\n",
    "Let's start with the calibration for *Siderastrea sidera*. Let's plot the Sr/Ca vs the temperature for the two records."
   ]
  },
  {
   "cell_type": "code",
   "execution_count": null,
   "metadata": {
    "colab": {
     "base_uri": "https://localhost:8080/",
     "height": 606
    },
    "id": "g7uFLhklHCU8",
    "outputId": "d877df2a-e725-45fe-bacb-d6be87da4db5"
   },
   "outputs": [],
   "source": [
    "fig,ax=plt.subplots(figsize=(10,10))\n",
    "plt.scatter(df.iloc[:,14], df.iloc[:,1],label='Coral 1')\n",
    "plt.scatter(df.iloc[:,14], df.iloc[:,4],label='Coral 2')\n",
    "plt.xlabel('SST')\n",
    "plt.ylabel('Sr/Ca (mmol/mol)')\n",
    "plt.legend()\n",
    "plt.show()"
   ]
  },
  {
   "cell_type": "markdown",
   "metadata": {
    "id": "u6NRMka1IFUC"
   },
   "source": [
    "**Question:** How do you interpret these results? Should we average the data? \n",
    "\n",
    "Let's consider them as separate samples. The cell below concatenates the data and plots the results. "
   ]
  },
  {
   "cell_type": "code",
   "execution_count": null,
   "metadata": {
    "colab": {
     "base_uri": "https://localhost:8080/",
     "height": 606
    },
    "id": "bbwXQ4DWIExJ",
    "outputId": "520e44f1-b07a-4fff-fb05-a37879e9e69c"
   },
   "outputs": [],
   "source": [
    "X = np.concatenate((np.array(df.iloc[:,14]),np.array(df.iloc[:,14])))\n",
    "Y = np.concatenate((np.array(df.iloc[:,1]),np.array(df.iloc[:,4])))\n",
    "\n",
    "#Remove NaNs\n",
    "idx_X = np.argwhere(~np.isnan(X))\n",
    "idx_Y = np.argwhere(~np.isnan(Y))\n",
    "\n",
    "idx = (np.intersect1d(idx_X, idx_Y))\n",
    "X_train = X[idx]\n",
    "Y_train = Y[idx]\n",
    "\n",
    "fig,ax=plt.subplots(figsize=(10,10))\n",
    "plt.scatter(X_train, Y_train)\n",
    "plt.xlabel('SST')\n",
    "plt.ylabel('Sr/Ca (mmol/mol)')\n",
    "plt.show()"
   ]
  },
  {
   "cell_type": "markdown",
   "metadata": {
    "id": "RS7ofeLhK_Mq"
   },
   "source": [
    "Now we're ready for the regression."
   ]
  },
  {
   "cell_type": "code",
   "execution_count": null,
   "metadata": {
    "colab": {
     "base_uri": "https://localhost:8080/",
     "height": 37
    },
    "id": "sRa08mPJICjT",
    "outputId": "77cd6ad3-cfd4-4fc6-a49e-e30b0050e2d2"
   },
   "outputs": [],
   "source": [
    "lr = LinearRegression()\n",
    "lr.fit(X_train.reshape((-1, 1)),Y_train)\n",
    "\n",
    "'Sr/Ca = %0.2f' % lr.intercept_ + '%0.4f' %lr.coef_ + 'SST'"
   ]
  },
  {
   "cell_type": "markdown",
   "metadata": {
    "id": "6MZQJ986NpLE"
   },
   "source": [
    "**Question:** How do your results compare to those of DeLong et al.? \n",
    "\n",
    "**Exercise:** Repeat the calibration with only one coral head, then the others. Are the results robust? Why would you want to check for this?\n",
    "\n",
    "Python hint: To take only one column in consideration, you can use the following lines at the beginning:\n",
    "\n",
    "\n",
    "\n",
    "```\n",
    "X = np.array(df.iloc[:,14])\n",
    "Y = np.array(df.iloc[:,1])\n",
    "\n",
    "```\n",
    "There is no need to concatenate. \n"
   ]
  },
  {
   "cell_type": "code",
   "execution_count": null,
   "metadata": {
    "id": "5SKxWb_xMS3W"
   },
   "outputs": [],
   "source": [
    "## your code here"
   ]
  },
  {
   "cell_type": "markdown",
   "metadata": {
    "id": "E9eRV7CBOyVL"
   },
   "source": [
    "### *Montastraea faveolata*\n",
    "\n",
    "Repeat the process for *Montastraea faveolata*."
   ]
  },
  {
   "cell_type": "markdown",
   "metadata": {
    "id": "d7vsL4-sRBbp"
   },
   "source": [
    "## Bayesian Calibration\n",
    "\n",
    "### *Siderastrea sidera*\n",
    "\n"
   ]
  },
  {
   "cell_type": "markdown",
   "metadata": {
    "id": "Mvy_F9RpRW6E"
   },
   "source": [
    "Optional: If you are proficient with Python, feel free to play with different priors in the [PyMC3 package](https://pymc3-testing.readthedocs.io/en/rtd-docs/index.html). \n",
    "\n",
    "The code below does the following:\n",
    "\n",
    "1. It assigns a model called `basic_model`\n",
    "2. It defines the priors for the regression:\n",
    "  * a is the slope. I chose a uniform prior over the -0.1 to 0 range. From previous studies, I know that the value of the slope is negative. Here I chose a small range for illustrative purposes. But if you have no idea what it should be, then you need to increase that range. On the other hand, if you have prior information about the value, then you can choose a different prior (e.g. normal distribution). **Warning:** Remember that the prior encodes your knowledge of the problem **BEFORE** you have seen the data. It is **not** appropriate to do an ordinary least square and use this as the prior.\n",
    "  * b is the intercept. Here I chose a uniform distribution over the [5,20] interval\n",
    "  * sigma represents the uncertainty in the posterior of the observations. It is fair to assume a Gaussian centered around the mean of the data as a prior. The trick is to choose the right sigma as to represent prior belief on how accurate and precise the measurements are. \n",
    "3. It defines the expected value of the outcome\n",
    "4. It then creates a model for the posterior (Gaussian model seems appropriate)\n",
    "5. Finally, it samples the space using the NUTS sampler. \n",
    "\n",
    "Bayesian regression are often solved numerically. Each sampler does this different but the idea is that the algorithm explores the space and calculates the cost of jumping from one value to another. When getting closer to the answers, the jumps are less so and convergence is achieved. \n",
    "\n",
    "Here, I asked to draw 5000 samples (5000 jumps) on two chains (each chain is initialized at different values, ensuring that the answer doesn't depend on the initial value), burning the first 500 samples (assuming that the fist guesses are very wrong) and retaining the last 4500 to form the distributions. "
   ]
  },
  {
   "cell_type": "code",
   "execution_count": null,
   "metadata": {
    "colab": {
     "base_uri": "https://localhost:8080/",
     "height": 230
    },
    "id": "6UVe6s2WRszT",
    "outputId": "b428879e-3ddb-4af7-8302-4da522f030d2"
   },
   "outputs": [],
   "source": [
    "with pm.Model() as basic_model:\n",
    "    \n",
    "    # Prior is a uniform distribution over the -1 to 0 interval for the slope and 0 to 50 for intercept\n",
    "    a = pm.Uniform('a',lower=-0.1, upper=0)\n",
    "    b = pm.Uniform('b',lower=5, upper=20)\n",
    "    sigma = pm.Normal('sigma', mu=8.9, sd=1)\n",
    "    \n",
    "    # Expected value of the outcome\n",
    "    mu = b + a*X_train\n",
    "    \n",
    "    # Create the model\n",
    "    Y_obs = pm.Normal('Y_obs', mu=mu, sd=sigma, observed=Y_train)\n",
    "\n",
    "    #Perform NUTS sampling\n",
    "    normal_trace = pm.sample(draws=5000, chains = 2, tune = 500)"
   ]
  },
  {
   "cell_type": "markdown",
   "metadata": {
    "id": "lQOF0K5Rf4QO"
   },
   "source": [
    "Let's plot our results. \n",
    "\n",
    "1. The plots on the left represent the posterior distributions for sigma, a, and b. \n",
    "\n",
    "**Question:** Are these values consistent with the OLS performed above? \n",
    "\n",
    "2. The plots on the right represent the values that were tried during the sampling. You want to make sure that the values are hovering around (no long trend that would indicate no convergence). "
   ]
  },
  {
   "cell_type": "code",
   "execution_count": null,
   "metadata": {
    "colab": {
     "base_uri": "https://localhost:8080/",
     "height": 510
    },
    "id": "iLwuS9Y5VLFu",
    "outputId": "ed95473d-c706-4188-905b-c544870c503a"
   },
   "outputs": [],
   "source": [
    "_ = pm.traceplot(normal_trace)"
   ]
  },
  {
   "cell_type": "markdown",
   "metadata": {
    "id": "uClb-T2OggTY"
   },
   "source": [
    "You can also ask for a numerical summary:"
   ]
  },
  {
   "cell_type": "code",
   "execution_count": null,
   "metadata": {
    "colab": {
     "base_uri": "https://localhost:8080/",
     "height": 213
    },
    "id": "e8K6Be7AVP4e",
    "outputId": "5075dcc9-cae5-4e85-8da2-64a06afabf6c"
   },
   "outputs": [],
   "source": [
    "pm.summary(normal_trace)"
   ]
  },
  {
   "cell_type": "markdown",
   "metadata": {
    "id": "_BT8Q6gXgoDA"
   },
   "source": [
    "**Exercise:** Repeat the calibration for *Montastraea faveolata*. "
   ]
  }
 ],
 "metadata": {
  "colab": {
   "collapsed_sections": [],
   "name": "Coral thermometer calibration.ipynb",
   "provenance": []
  },
  "kernelspec": {
   "display_name": "Python 3",
   "language": "python",
   "name": "python3"
  },
  "language_info": {
   "codemirror_mode": {
    "name": "ipython",
    "version": 3
   },
   "file_extension": ".py",
   "mimetype": "text/x-python",
   "name": "python",
   "nbconvert_exporter": "python",
   "pygments_lexer": "ipython3",
   "version": "3.7.6"
  }
 },
 "nbformat": 4,
 "nbformat_minor": 1
}
